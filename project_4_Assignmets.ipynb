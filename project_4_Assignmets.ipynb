{
  "nbformat": 4,
  "nbformat_minor": 0,
  "metadata": {
    "colab": {
      "provenance": [],
      "authorship_tag": "ABX9TyPcVvArLpE6ZQSCnLTlX5AI",
      "include_colab_link": true
    },
    "kernelspec": {
      "name": "python3",
      "display_name": "Python 3"
    },
    "language_info": {
      "name": "python"
    }
  },
  "cells": [
    {
      "cell_type": "markdown",
      "metadata": {
        "id": "view-in-github",
        "colab_type": "text"
      },
      "source": [
        "<a href=\"https://colab.research.google.com/github/Muhammadasif1986/Project_4_Assignments/blob/main/project_4_Assignmets.ipynb\" target=\"_parent\"><img src=\"https://colab.research.google.com/assets/colab-badge.svg\" alt=\"Open In Colab\"/></a>"
      ]
    },
    {
      "cell_type": "markdown",
      "source": [
        "This code snippet is designed to take two numbers as input from the user, calculate their sum, and then display the result. Let's break it down step-by-step:\n"
      ],
      "metadata": {
        "id": "3UP5UtX-M00K"
      }
    },
    {
      "cell_type": "code",
      "source": [
        "def main():\n",
        "    number1 = input(\"enter your first numner\")\n",
        "    number2 = input(\"enter your second number\")\n",
        "    number1 = int(number1)\n",
        "    number2 = int(number2)\n",
        "    sum = number1 + number2\n",
        "    print(sum)\n",
        "if __name__ == '__main__':\n",
        "    main()"
      ],
      "metadata": {
        "colab": {
          "base_uri": "https://localhost:8080/"
        },
        "id": "j5HBajeNNx4I",
        "outputId": "56e69b63-a7f8-41fd-fc77-3ea149ca1145"
      },
      "execution_count": null,
      "outputs": [
        {
          "output_type": "stream",
          "name": "stdout",
          "text": [
            "enter your first numner5\n",
            "enter your second number6\n",
            "11\n"
          ]
        }
      ]
    },
    {
      "cell_type": "markdown",
      "source": [
        "This code asks the user for their favorite animal and then prints a message saying the program's favorite is the same. It uses a function called main to organize the code and an if statement to ensure it runs when executed directly."
      ],
      "metadata": {
        "id": "jaWK-9vuSHFM"
      }
    },
    {
      "cell_type": "code",
      "source": [
        "def main():\n",
        " animal=input(\"ewhat their favorite animal is\")\n",
        " print(f\"My favorite animal is also {animal}\")\n",
        "if __name__ == '__main__':\n",
        "    main()"
      ],
      "metadata": {
        "colab": {
          "base_uri": "https://localhost:8080/"
        },
        "id": "smkeRY83Q5n1",
        "outputId": "5f870dd2-99bf-496e-afa3-938ac482b901"
      },
      "execution_count": null,
      "outputs": [
        {
          "output_type": "stream",
          "name": "stdout",
          "text": [
            "ewhat their favorite animal iscow\n",
            "My favorite animal is also cow\n"
          ]
        }
      ]
    },
    {
      "cell_type": "markdown",
      "source": [
        "This program converts a temperature entered in Fahrenheit to its equivalent in Celsius"
      ],
      "metadata": {
        "id": "_gWfoB01Tf9P"
      }
    },
    {
      "cell_type": "code",
      "source": [
        "def main():\n",
        "    degrees_fahrenheit = float(input(\"Enter temperature in Fahrenheit: \"))\n",
        "    degrees_celsius = (degrees_fahrenheit - 32) * 5.0 / 9.0\n",
        "    celsius = round(degrees_celsius, 2)\n",
        "    print(f\"Temperature: {degrees_fahrenheit}F = {celsius}C\")\n",
        "\n",
        "if __name__ == \"__main__\":\n",
        "    main()"
      ],
      "metadata": {
        "colab": {
          "base_uri": "https://localhost:8080/"
        },
        "id": "KXCboNQeTgbi",
        "outputId": "e6943c22-c223-4522-ba8b-d74daea54a52"
      },
      "execution_count": null,
      "outputs": [
        {
          "output_type": "stream",
          "name": "stdout",
          "text": [
            "Enter temperature in Fahrenheit: 66\n",
            "Temperature: 66.0F = 18.89C\n"
          ]
        }
      ]
    },
    {
      "cell_type": "markdown",
      "source": [
        "This code calculates and prints the ages of five friends (Anton, Beth, Chen, Drew, Ethan) based on given relationships. It starts with Anton's age (21) and uses it to determine the others' ages through addition. Finally, it prints each person's name and their age."
      ],
      "metadata": {
        "id": "XpiAckC3UVaT"
      }
    },
    {
      "cell_type": "code",
      "source": [
        "def main():\n",
        "# Store Anton's age\n",
        "  anton_age = 21\n",
        "\n",
        "# Calculate Beth's age\n",
        "  beth_age = anton_age + 6\n",
        "\n",
        "# Calculate Chen's age\n",
        "  chen_age = beth_age + 20\n",
        "\n",
        "# Calculate Drew's age\n",
        "  drew_age = chen_age + anton_age\n",
        "\n",
        "# Ethan's age is the same as Chen's\n",
        "  ethan_age = chen_age\n",
        "\n",
        "# Print the names and ages\n",
        "print(f\"Anton is {anton_age} years old.\")\n",
        "print(f\"Beth is {beth_age} years old.\")\n",
        "print(f\"Chen is {chen_age} years old.\")\n",
        "print(f\"Drew is {drew_age} years old.\")\n",
        "print(f\"Ethan is {ethan_age} years old.\")\n",
        "\n",
        "if __name__ == '__main__':\n",
        "    main()"
      ],
      "metadata": {
        "colab": {
          "base_uri": "https://localhost:8080/"
        },
        "id": "jvETUI4PUU6J",
        "outputId": "f2928f74-69d6-4e58-bd8c-f3f7998f0ade"
      },
      "execution_count": null,
      "outputs": [
        {
          "output_type": "stream",
          "name": "stdout",
          "text": [
            "Anton is 21 years old.\n",
            "Beth is 27 years old.\n",
            "Chen is 47 years old.\n",
            "Drew is 68 years old.\n",
            "Ethan is 47 years old.\n"
          ]
        }
      ]
    },
    {
      "cell_type": "markdown",
      "source": [
        "This code snippet calculates the perimeter of a triangle. Let's break"
      ],
      "metadata": {
        "id": "RE1NCbdyVN8g"
      }
    },
    {
      "cell_type": "code",
      "source": [
        "def main():\n",
        "\n",
        "    side1: float = float(input(\"What is the length of side 1? \"))\n",
        "    side2: float = float(input(\"What is the length of side 2? \"))\n",
        "    side3: float = float(input(\"What is the length of side 3? \"))\n",
        "\n",
        "\n",
        "    print(f\"The perimeter of the triangle is {side1+side2+side3}\")\n",
        "\n",
        "\n",
        "\n",
        "\n",
        "if __name__ == '__main__':\n",
        "    main()"
      ],
      "metadata": {
        "colab": {
          "base_uri": "https://localhost:8080/"
        },
        "id": "6G5wcdSEVPF-",
        "outputId": "e48e63ce-5b0f-4019-ea70-8442abf05517"
      },
      "execution_count": null,
      "outputs": [
        {
          "output_type": "stream",
          "name": "stdout",
          "text": [
            "What is the length of side 1? 3\n",
            "What is the length of side 2? 4\n",
            "What is the length of side 3? 5\n",
            "The perimeter of the triangle is 12.0\n"
          ]
        }
      ]
    },
    {
      "cell_type": "markdown",
      "source": [
        "This code snippet calculates the square of a number entered by the user."
      ],
      "metadata": {
        "id": "eZK8rhZmXExA"
      }
    },
    {
      "cell_type": "code",
      "source": [
        "def main():\n",
        "    \"\"\"Get a number from the user and print its square.\"\"\"\n",
        "    number = float(input(\"Type a number to see its square: \"))\n",
        "    square = number * number  # Calculate the square\n",
        "    print(f\"{str(number)} squared is {square}\")\n",
        "\n",
        "if __name__ == \"__main__\":\n",
        "    main()"
      ],
      "metadata": {
        "colab": {
          "base_uri": "https://localhost:8080/"
        },
        "id": "kijIaNUYXFaW",
        "outputId": "40008971-e31e-4984-d751-2008c9db06cc"
      },
      "execution_count": null,
      "outputs": [
        {
          "output_type": "stream",
          "name": "stdout",
          "text": [
            "Type a number to see its square: 56\n",
            "56.0 squared is 3136.0\n"
          ]
        }
      ]
    },
    {
      "cell_type": "markdown",
      "source": [
        "The code simulates rolling two six-sided dice three times and prints the total of each roll. It uses the random module for random dice values. The roll_dice function has its own scope, so the die1 variable inside it is different from the die1 in the main function's scope. This demonstrates variable scope in Python. main runs only when the script is executed directly."
      ],
      "metadata": {
        "id": "rDWmaVCahwJF"
      }
    },
    {
      "cell_type": "code",
      "source": [
        "import random\n",
        "\n",
        "NUM_SIDES = 6\n",
        "\n",
        "def roll_dice():\n",
        "    \"\"\"\n",
        "    Simulates rolling two dice and prints their total\n",
        "    \"\"\"\n",
        "    die1: int = random.randint(1, NUM_SIDES)\n",
        "    die2: int = random.randint(1, NUM_SIDES)\n",
        "    total: int = die1 + die2\n",
        "    print(\"Total of two dice:\", total)\n",
        "\n",
        "def main():\n",
        "  die1: int = 10\n",
        "  print(\"die1 in main() starts as: \" + str(die1))\n",
        "  roll_dice()\n",
        "  roll_dice()\n",
        "  roll_dice()\n",
        "  print(\"die1 in main() is: \" + str(die1))\n",
        "if __name__ == '__main__':\n",
        "    main()"
      ],
      "metadata": {
        "colab": {
          "base_uri": "https://localhost:8080/"
        },
        "id": "8C03WAw4hweQ",
        "outputId": "7d0be9a7-26d8-4b96-8a64-56e267087c8c"
      },
      "execution_count": 2,
      "outputs": [
        {
          "output_type": "stream",
          "name": "stdout",
          "text": [
            "die1 in main() starts as: 10\n",
            "Total of two dice: 11\n",
            "Total of two dice: 4\n",
            "Total of two dice: 5\n",
            "die1 in main() is: 10\n"
          ]
        }
      ]
    },
    {
      "cell_type": "markdown",
      "source": [],
      "metadata": {
        "id": "2fVvo7XHn_SY"
      }
    },
    {
      "cell_type": "code",
      "source": [
        "C: int = 299792458  # The speed of light in m/s\n",
        "\n",
        "def main():\n",
        "    mass_in_kg: float = float(input(\"Enter kilos of mass: \"))\n",
        "\n",
        "    # Calculate energy\n",
        "    # equivalently energy = mass * (C ** 2)\n",
        "    # using the ** operator to raise C to the power of 2\n",
        "    energy_in_joules: float = mass_in_kg * (C ** 2)\n",
        "\n",
        "    # Display work to the user\n",
        "    print(\"e = m * C^2...\")\n",
        "    print(\"m = \" + str(mass_in_kg) + \" kg\")\n",
        "    print(\"C = \" + str(C) + \" m/s\")\n",
        "\n",
        "    print(str(energy_in_joules) + \" joules of energy!\")\n",
        "\n",
        "\n",
        "# There is no need to edit code beyond this point\n",
        "\n",
        "if __name__ == '__main__':\n",
        "    main()"
      ],
      "metadata": {
        "colab": {
          "base_uri": "https://localhost:8080/"
        },
        "id": "QVuGDp7woC9N",
        "outputId": "854f8ca5-4b0e-4488-d9fb-0fb0633b4b31"
      },
      "execution_count": 10,
      "outputs": [
        {
          "output_type": "stream",
          "name": "stdout",
          "text": [
            "Enter kilos of mass: 100\n",
            "e = m * C^2...\n",
            "m = 100.0 kg\n",
            "C = 299792458 m/s\n",
            "8.987551787368176e+18 joules of energy!\n"
          ]
        }
      ]
    },
    {
      "cell_type": "markdown",
      "source": [
        "This code snippet is a simple program that converts a measurement from feet to inches"
      ],
      "metadata": {
        "id": "nyZAw-_uwVlh"
      }
    },
    {
      "cell_type": "code",
      "source": [
        "INCHES_IN_FOOT: int = 12  # Conversion factor. There are 12 inches for 1 foot.\n",
        "\n",
        "def main():\n",
        "    feet: float = float(input(\"Enter number of feet: \"))  # Get the number of feet, make sure to cast it to a float!\n",
        "    inches: float = feet * INCHES_IN_FOOT  # Perform the conversion\n",
        "    print(\"That is\", inches, \"inches!\")\n",
        "\n",
        "\n",
        "# This provided line is required at the end of a Python file\n",
        "# to call the main() function.\n",
        "if __name__ == '__main__':\n",
        "    main()"
      ],
      "metadata": {
        "id": "ei3OS8dBwWoS"
      },
      "execution_count": null,
      "outputs": []
    },
    {
      "cell_type": "markdown",
      "source": [
        "This code calculates the hypotenuse of a right-angled triangle.\n",
        "\n",
        "Imports: It imports the math library for the sqrt function.\n",
        "Input: It asks the user for the lengths of two sides (AB and AC).\n",
        "Calculation: It uses the Pythagorean theorem (a² + b² = c²) to calculate the hypotenuse (BC) using math.sqrt.\n",
        "Output: It prints the calculated hypotenuse.\n",
        "That's it! It's a simple program for a common geometric calculation."
      ],
      "metadata": {
        "id": "PR8LT25rwiBX"
      }
    },
    {
      "cell_type": "code",
      "source": [
        "import math  # Import the math library so we can use the sqrt function\n",
        "\n",
        "def main():\n",
        "    # Get the two side lengths from the user and cast them to be numbers\n",
        "    ab: float = float(input(\"Enter the length of AB: \"))\n",
        "    ac: float = float(input(\"Enter the length of AC: \"))\n",
        "\n",
        "    # Calculate the hypotenuse using the two sides and print it out\n",
        "    bc: float = math.sqrt(ab**2 + ac**2)\n",
        "    print(\"The length of BC (the hypotenuse) is: \" + str(bc))\n",
        "\n",
        "\n",
        "# There is no need to edit code beyond this point\n",
        "\n",
        "if __name__ == '__main__':\n",
        "    main()"
      ],
      "metadata": {
        "colab": {
          "base_uri": "https://localhost:8080/"
        },
        "id": "4AdVbGz_wisA",
        "outputId": "b08edabc-c98a-4d7b-8130-04e2b3a8266e"
      },
      "execution_count": 11,
      "outputs": [
        {
          "output_type": "stream",
          "name": "stdout",
          "text": [
            "Enter the length of AB: 45\n",
            "Enter the length of AC: 55\n",
            "The length of BC (the hypotenuse) is: 71.06335201775947\n"
          ]
        }
      ]
    },
    {
      "cell_type": "markdown",
      "source": [
        "This code takes two numbers as input, divides the first by the second, and then prints the result (including the quotient and remainder). It uses integer division (//) to get the whole number quotient and the modulo operator (%) to get the remainder."
      ],
      "metadata": {
        "id": "zeDG9xNLyq7t"
      }
    },
    {
      "cell_type": "code",
      "source": [
        "def main():\n",
        "    # Get the numbers we want to divide\n",
        "    dividend: int = int(input(\"Please enter an integer to be divided: \"))\n",
        "    divisor: int = int(input(\"Please enter an integer to divide by: \"))\n",
        "\n",
        "    quotient: int = dividend // divisor\n",
        "    remainder: int = dividend % divisor\n",
        "\n",
        "    print(\"The result of this division is \" + str(quotient) + \" with a remainder of \" + str(remainder))\n",
        "\n",
        "\n",
        "# There is no need to edit code beyond this point\n",
        "\n",
        "if __name__ == '__main__':\n",
        "    main()\n"
      ],
      "metadata": {
        "colab": {
          "base_uri": "https://localhost:8080/"
        },
        "id": "Xe9sVq2HyraT",
        "outputId": "52e20949-4f47-4a90-ae1b-7c92e41f1445"
      },
      "execution_count": 12,
      "outputs": [
        {
          "output_type": "stream",
          "name": "stdout",
          "text": [
            "Please enter an integer to be divided: 67\n",
            "Please enter an integer to divide by: 7\n",
            "The result of this division is 9 with a remainder of 4\n"
          ]
        }
      ]
    },
    {
      "cell_type": "markdown",
      "source": [
        "This specific comment explains the purpose of the code that follows it. It tells us that the following line of code calculates the total number of seconds in a year. It achieves this by multiplying values stored in the variables DAYS_PER_YEAR, HOURS_PER_DAY, MIN_PER_HOUR, and SEC_PER_MIN, which represent the number of days in a year, hours in a day, minutes in an hour, and seconds in a minute respectively."
      ],
      "metadata": {
        "id": "oFIM6xzWzngw"
      }
    },
    {
      "cell_type": "code",
      "source": [
        "# Useful constants to help make the math easier and cleaner!\n",
        "DAYS_PER_YEAR: int = 365\n",
        "HOURS_PER_DAY: int = 24\n",
        "MIN_PER_HOUR: int = 60\n",
        "SEC_PER_MIN: int = 60\n",
        "\n",
        "def main():\n",
        "    # We can get the number of seconds per year by multiplying the handy constants above!\n",
        "    print(\"There are \" + str(DAYS_PER_YEAR * HOURS_PER_DAY * MIN_PER_HOUR * SEC_PER_MIN) + \" seconds in a year!\")\n",
        "\n",
        "\n",
        "# There is no need to edit code beyond this point\n",
        "\n",
        "if __name__ == '__main__':\n",
        "    main()"
      ],
      "metadata": {
        "colab": {
          "base_uri": "https://localhost:8080/"
        },
        "id": "CXrusDRtzn6_",
        "outputId": "77bf4305-5fb2-44b8-c200-07f0dcc29c40"
      },
      "execution_count": 13,
      "outputs": [
        {
          "output_type": "stream",
          "name": "stdout",
          "text": [
            "There are 31536000 seconds in a year!\n"
          ]
        }
      ]
    },
    {
      "cell_type": "markdown",
      "source": [
        "This code is designed to create a sentence by taking three words (an adjective, a noun, and a verb) as input from the user and inserting them into a pre-defined sentence structure."
      ],
      "metadata": {
        "id": "KJuZUIra0qzI"
      }
    },
    {
      "cell_type": "code",
      "source": [
        "def main():\n",
        "    # Starting part of the sentence\n",
        "    SENTENCE_START = \"Code in Place is fun. I learned to program and used Python to make my\"\n",
        "\n",
        "    # Asking user for inputs\n",
        "    adjective = input(\"Please type an adjective and press enter: \")\n",
        "    noun = input(\"Please type a noun and press enter: \")\n",
        "    verb = input(\"Please type a verb and press enter: \")\n",
        "\n",
        "    # Constructing and printing the final sentence\n",
        "    print(f\"{SENTENCE_START} {adjective} {noun} {verb}!\")\n",
        "\n",
        "# Calling main function\n",
        "if __name__ == '__main__':\n",
        "    main()\n"
      ],
      "metadata": {
        "colab": {
          "base_uri": "https://localhost:8080/"
        },
        "id": "_-4JFJAO0rFl",
        "outputId": "6e0c82ec-45e8-4abc-de9d-a969baa60828"
      },
      "execution_count": 15,
      "outputs": [
        {
          "output_type": "stream",
          "name": "stdout",
          "text": [
            "Please type an adjective and press enter: book\n",
            "Please type a noun and press enter: englis \n",
            "Please type a verb and press enter: reading\n",
            "Code in Place is fun. I learned to program and used Python to make my book englis  reading!\n"
          ]
        }
      ]
    }
  ]
}