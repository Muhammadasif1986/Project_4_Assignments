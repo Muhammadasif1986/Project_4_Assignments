{
  "nbformat": 4,
  "nbformat_minor": 0,
  "metadata": {
    "colab": {
      "provenance": [],
      "authorship_tag": "ABX9TyMcB878pCSegWth8rsk/cAY",
      "include_colab_link": true
    },
    "kernelspec": {
      "name": "python3",
      "display_name": "Python 3"
    },
    "language_info": {
      "name": "python"
    }
  },
  "cells": [
    {
      "cell_type": "markdown",
      "metadata": {
        "id": "view-in-github",
        "colab_type": "text"
      },
      "source": [
        "<a href=\"https://colab.research.google.com/github/Muhammadasif1986/Project_4_Assignments/blob/main/project_4_Assignmets.ipynb\" target=\"_parent\"><img src=\"https://colab.research.google.com/assets/colab-badge.svg\" alt=\"Open In Colab\"/></a>"
      ]
    },
    {
      "cell_type": "markdown",
      "source": [
        "This code snippet is designed to take two numbers as input from the user, calculate their sum, and then display the result. Let's break it down step-by-step:\n"
      ],
      "metadata": {
        "id": "3UP5UtX-M00K"
      }
    },
    {
      "cell_type": "code",
      "source": [
        "def main():\n",
        "    number1 = input(\"enter your first numner\")\n",
        "    number2 = input(\"enter your second number\")\n",
        "    number1 = int(number1)\n",
        "    number2 = int(number2)\n",
        "    sum = number1 + number2\n",
        "    print(sum)\n",
        "if __name__ == '__main__':\n",
        "    main()"
      ],
      "metadata": {
        "colab": {
          "base_uri": "https://localhost:8080/"
        },
        "id": "j5HBajeNNx4I",
        "outputId": "56e69b63-a7f8-41fd-fc77-3ea149ca1145"
      },
      "execution_count": 2,
      "outputs": [
        {
          "output_type": "stream",
          "name": "stdout",
          "text": [
            "enter your first numner5\n",
            "enter your second number6\n",
            "11\n"
          ]
        }
      ]
    },
    {
      "cell_type": "markdown",
      "source": [
        "This code asks the user for their favorite animal and then prints a message saying the program's favorite is the same. It uses a function called main to organize the code and an if statement to ensure it runs when executed directly."
      ],
      "metadata": {
        "id": "jaWK-9vuSHFM"
      }
    },
    {
      "cell_type": "code",
      "source": [
        "def main():\n",
        " animal=input(\"ewhat their favorite animal is\")\n",
        " print(f\"My favorite animal is also {animal}\")\n",
        "if __name__ == '__main__':\n",
        "    main()"
      ],
      "metadata": {
        "colab": {
          "base_uri": "https://localhost:8080/"
        },
        "id": "smkeRY83Q5n1",
        "outputId": "5f870dd2-99bf-496e-afa3-938ac482b901"
      },
      "execution_count": 4,
      "outputs": [
        {
          "output_type": "stream",
          "name": "stdout",
          "text": [
            "ewhat their favorite animal iscow\n",
            "My favorite animal is also cow\n"
          ]
        }
      ]
    },
    {
      "cell_type": "markdown",
      "source": [
        "This program converts a temperature entered in Fahrenheit to its equivalent in Celsius"
      ],
      "metadata": {
        "id": "_gWfoB01Tf9P"
      }
    },
    {
      "cell_type": "code",
      "source": [
        "def main():\n",
        "    degrees_fahrenheit = float(input(\"Enter temperature in Fahrenheit: \"))\n",
        "    degrees_celsius = (degrees_fahrenheit - 32) * 5.0 / 9.0\n",
        "    celsius = round(degrees_celsius, 2)\n",
        "    print(f\"Temperature: {degrees_fahrenheit}F = {celsius}C\")\n",
        "\n",
        "if __name__ == \"__main__\":\n",
        "    main()"
      ],
      "metadata": {
        "colab": {
          "base_uri": "https://localhost:8080/"
        },
        "id": "KXCboNQeTgbi",
        "outputId": "e6943c22-c223-4522-ba8b-d74daea54a52"
      },
      "execution_count": 12,
      "outputs": [
        {
          "output_type": "stream",
          "name": "stdout",
          "text": [
            "Enter temperature in Fahrenheit: 66\n",
            "Temperature: 66.0F = 18.89C\n"
          ]
        }
      ]
    },
    {
      "cell_type": "markdown",
      "source": [
        "This code calculates and prints the ages of five friends (Anton, Beth, Chen, Drew, Ethan) based on given relationships. It starts with Anton's age (21) and uses it to determine the others' ages through addition. Finally, it prints each person's name and their age."
      ],
      "metadata": {
        "id": "XpiAckC3UVaT"
      }
    },
    {
      "cell_type": "code",
      "source": [
        "def main():\n",
        "# Store Anton's age\n",
        "  anton_age = 21\n",
        "\n",
        "# Calculate Beth's age\n",
        "  beth_age = anton_age + 6\n",
        "\n",
        "# Calculate Chen's age\n",
        "  chen_age = beth_age + 20\n",
        "\n",
        "# Calculate Drew's age\n",
        "  drew_age = chen_age + anton_age\n",
        "\n",
        "# Ethan's age is the same as Chen's\n",
        "  ethan_age = chen_age\n",
        "\n",
        "# Print the names and ages\n",
        "print(f\"Anton is {anton_age} years old.\")\n",
        "print(f\"Beth is {beth_age} years old.\")\n",
        "print(f\"Chen is {chen_age} years old.\")\n",
        "print(f\"Drew is {drew_age} years old.\")\n",
        "print(f\"Ethan is {ethan_age} years old.\")\n",
        "\n",
        "if __name__ == '__main__':\n",
        "    main()"
      ],
      "metadata": {
        "colab": {
          "base_uri": "https://localhost:8080/"
        },
        "id": "jvETUI4PUU6J",
        "outputId": "f2928f74-69d6-4e58-bd8c-f3f7998f0ade"
      },
      "execution_count": 6,
      "outputs": [
        {
          "output_type": "stream",
          "name": "stdout",
          "text": [
            "Anton is 21 years old.\n",
            "Beth is 27 years old.\n",
            "Chen is 47 years old.\n",
            "Drew is 68 years old.\n",
            "Ethan is 47 years old.\n"
          ]
        }
      ]
    },
    {
      "cell_type": "markdown",
      "source": [
        "This code snippet calculates the perimeter of a triangle. Let's break"
      ],
      "metadata": {
        "id": "RE1NCbdyVN8g"
      }
    },
    {
      "cell_type": "code",
      "source": [
        "def main():\n",
        "\n",
        "    side1: float = float(input(\"What is the length of side 1? \"))\n",
        "    side2: float = float(input(\"What is the length of side 2? \"))\n",
        "    side3: float = float(input(\"What is the length of side 3? \"))\n",
        "\n",
        "\n",
        "    print(f\"The perimeter of the triangle is {side1+side2+side3}\")\n",
        "\n",
        "\n",
        "\n",
        "\n",
        "if __name__ == '__main__':\n",
        "    main()"
      ],
      "metadata": {
        "colab": {
          "base_uri": "https://localhost:8080/"
        },
        "id": "6G5wcdSEVPF-",
        "outputId": "e48e63ce-5b0f-4019-ea70-8442abf05517"
      },
      "execution_count": 9,
      "outputs": [
        {
          "output_type": "stream",
          "name": "stdout",
          "text": [
            "What is the length of side 1? 3\n",
            "What is the length of side 2? 4\n",
            "What is the length of side 3? 5\n",
            "The perimeter of the triangle is 12.0\n"
          ]
        }
      ]
    },
    {
      "cell_type": "markdown",
      "source": [
        "This code snippet calculates the square of a number entered by the user."
      ],
      "metadata": {
        "id": "eZK8rhZmXExA"
      }
    },
    {
      "cell_type": "code",
      "source": [
        "def main():\n",
        "    \"\"\"Get a number from the user and print its square.\"\"\"\n",
        "    number = float(input(\"Type a number to see its square: \"))\n",
        "    square = number * number  # Calculate the square\n",
        "    print(f\"{str(number)} squared is {square}\")\n",
        "\n",
        "if __name__ == \"__main__\":\n",
        "    main()"
      ],
      "metadata": {
        "colab": {
          "base_uri": "https://localhost:8080/"
        },
        "id": "kijIaNUYXFaW",
        "outputId": "40008971-e31e-4984-d751-2008c9db06cc"
      },
      "execution_count": 10,
      "outputs": [
        {
          "output_type": "stream",
          "name": "stdout",
          "text": [
            "Type a number to see its square: 56\n",
            "56.0 squared is 3136.0\n"
          ]
        }
      ]
    },
    {
      "cell_type": "markdown",
      "source": [],
      "metadata": {
        "id": "nSGY9c2tUUXY"
      }
    }
  ]
}