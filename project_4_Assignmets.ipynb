{
  "nbformat": 4,
  "nbformat_minor": 0,
  "metadata": {
    "colab": {
      "provenance": [],
      "authorship_tag": "ABX9TyMb1Lu2ZooOX8cy76un1yH+",
      "include_colab_link": true
    },
    "kernelspec": {
      "name": "python3",
      "display_name": "Python 3"
    },
    "language_info": {
      "name": "python"
    }
  },
  "cells": [
    {
      "cell_type": "markdown",
      "metadata": {
        "id": "view-in-github",
        "colab_type": "text"
      },
      "source": [
        "<a href=\"https://colab.research.google.com/github/Muhammadasif1986/Project_4_Assignments/blob/main/project_4_Assignmets.ipynb\" target=\"_parent\"><img src=\"https://colab.research.google.com/assets/colab-badge.svg\" alt=\"Open In Colab\"/></a>"
      ]
    },
    {
      "cell_type": "markdown",
      "source": [
        "This code snippet is designed to take two numbers as input from the user, calculate their sum, and then display the result. Let's break it down step-by-step:\n"
      ],
      "metadata": {
        "id": "3UP5UtX-M00K"
      }
    },
    {
      "cell_type": "code",
      "source": [
        "def main():\n",
        "    number1 = input(\"enter your first numner\")\n",
        "    number2 = input(\"enter your second number\")\n",
        "    number1 = int(number1)\n",
        "    number2 = int(number2)\n",
        "    sum = number1 + number2\n",
        "    print(sum)\n",
        "if __name__ == '__main__':\n",
        "    main()"
      ],
      "metadata": {
        "colab": {
          "base_uri": "https://localhost:8080/"
        },
        "id": "j5HBajeNNx4I",
        "outputId": "56e69b63-a7f8-41fd-fc77-3ea149ca1145"
      },
      "execution_count": 2,
      "outputs": [
        {
          "output_type": "stream",
          "name": "stdout",
          "text": [
            "enter your first numner5\n",
            "enter your second number6\n",
            "11\n"
          ]
        }
      ]
    },
    {
      "cell_type": "markdown",
      "source": [
        "This code asks the user for their favorite animal and then prints a message saying the program's favorite is the same. It uses a function called main to organize the code and an if statement to ensure it runs when executed directly."
      ],
      "metadata": {
        "id": "jaWK-9vuSHFM"
      }
    },
    {
      "cell_type": "code",
      "source": [
        "def main():\n",
        " animal=input(\"ewhat their favorite animal is\")\n",
        " print(f\"My favorite animal is also {animal}\")\n",
        "if __name__ == '__main__':\n",
        "    main()"
      ],
      "metadata": {
        "colab": {
          "base_uri": "https://localhost:8080/"
        },
        "id": "smkeRY83Q5n1",
        "outputId": "5f870dd2-99bf-496e-afa3-938ac482b901"
      },
      "execution_count": 4,
      "outputs": [
        {
          "output_type": "stream",
          "name": "stdout",
          "text": [
            "ewhat their favorite animal iscow\n",
            "My favorite animal is also cow\n"
          ]
        }
      ]
    }
  ]
}